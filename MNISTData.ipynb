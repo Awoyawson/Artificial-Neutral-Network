{
  "nbformat": 4,
  "nbformat_minor": 0,
  "metadata": {
    "colab": {
      "name": "MNISTData.ipynb",
      "provenance": [],
      "authorship_tag": "ABX9TyOcOWXUEe9nOeRx4KY/rkH/",
      "include_colab_link": true
    },
    "kernelspec": {
      "name": "python3",
      "display_name": "Python 3"
    }
  },
  "cells": [
    {
      "cell_type": "markdown",
      "metadata": {
        "id": "view-in-github",
        "colab_type": "text"
      },
      "source": [
        "<a href=\"https://colab.research.google.com/github/Awoyawson/Artificial-Neutral-Network/blob/main/MNISTData.ipynb\" target=\"_parent\"><img src=\"https://colab.research.google.com/assets/colab-badge.svg\" alt=\"Open In Colab\"/></a>"
      ]
    },
    {
      "cell_type": "code",
      "metadata": {
        "id": "GmownbKTbcJr"
      },
      "source": [
        "# Import needed Libariries \n",
        "import tensorflow as tf\n",
        "from tensorflow.keras import datasets\n",
        "import numpy as np\n",
        "import matplotlib.pyplot as plt\n"
      ],
      "execution_count": 1,
      "outputs": []
    },
    {
      "cell_type": "code",
      "metadata": {
        "colab": {
          "base_uri": "https://localhost:8080/"
        },
        "id": "JD0sscYae3_E",
        "outputId": "d6481f76-0d08-426f-f2fe-43121fce0f45"
      },
      "source": [
        "# this will show the version of TensorFlow we are using\n",
        "print(tf.__version__)"
      ],
      "execution_count": 2,
      "outputs": [
        {
          "output_type": "stream",
          "text": [
            "2.4.1\n"
          ],
          "name": "stdout"
        }
      ]
    },
    {
      "cell_type": "code",
      "metadata": {
        "id": "_5OgUIBGe_Xu",
        "colab": {
          "base_uri": "https://localhost:8080/"
        },
        "outputId": "b63b00e1-74bb-4c6d-a30c-59c1d5741922"
      },
      "source": [
        "# Load  the MINST dataset\n",
        "mnist = datasets.mnist\n",
        "(x_train,y_train), (x_test, y_test) = mnist.load_data()\n"
      ],
      "execution_count": 3,
      "outputs": [
        {
          "output_type": "stream",
          "text": [
            "Downloading data from https://storage.googleapis.com/tensorflow/tf-keras-datasets/mnist.npz\n",
            "11493376/11490434 [==============================] - 0s 0us/step\n"
          ],
          "name": "stdout"
        }
      ]
    },
    {
      "cell_type": "code",
      "metadata": {
        "colab": {
          "base_uri": "https://localhost:8080/",
          "height": 170
        },
        "id": "it0QIvdOgDTk",
        "outputId": "4fa459d9-54ec-49c9-973c-71c4f0bbaac8"
      },
      "source": [
        "# Virsualise a few examples\n",
        "plt.figure (figsize=(10,2))\n",
        "for index,(image,label) in enumerate(zip(x_train[0:5],y_train[0:5])):\n",
        "  plt.subplot(1,5,index+1)\n",
        "  plt.imshow(np.reshape(image,(28,28)),cmap=plt.cm.gray)\n",
        "  plt.title('Training:{}\\n'.format(label),fontsize = 10)"
      ],
      "execution_count": 4,
      "outputs": [
        {
          "output_type": "display_data",
          "data": {
            "image/png": "[encoded data removed]",
            "text/plain": [
              "<Figure size 720x144 with 5 Axes>"
            ]
          },
          "metadata": {
            "tags": [],
            "needs_background": "light"
          }
        }
      ]
    },
    {
      "cell_type": "code",
      "metadata": {
        "id": "2SvbQ6VyiUGW"
      },
      "source": [
        "# convert data  from integers to floating -point number(between 0 and 9)\n",
        "x_train,x_test = x_train/255.0,x_test/255.0\n"
      ],
      "execution_count": 5,
      "outputs": []
    },
    {
      "cell_type": "code",
      "metadata": {
        "id": "cc5tiL1TipsW"
      },
      "source": [
        "# Build the tf.keras.sequential model by adding a layer after another\n",
        "\n",
        "\n",
        "model = tf.keras.models.Sequential()\n",
        "model.add(tf.keras.layers.Flatten(input_shape=(28,28)))\n",
        "model.add(tf.keras.layers.Dense(128,activation ='relu'))\n",
        "model.add(tf.keras.layers.Dropout(0.2))\n",
        "model.add(tf.keras.layers.Dense(10,activation='softmax'))"
      ],
      "execution_count": 7,
      "outputs": []
    },
    {
      "cell_type": "code",
      "metadata": {
        "id": "sYYCnuHklZ8M"
      },
      "source": [
        "#Compile the model : add optimizer, loss, and performance evaluation metrics\n",
        "model.compile(optimizer='adam',\n",
        "              loss='sparse_categorical_crossentropy', #used when the true labels are integers - 'categorical_crossentropy' is used when the true labels are one-hot encoded \n",
        "              metrics=['accuracy'])"
      ],
      "execution_count": 8,
      "outputs": []
    },
    {
      "cell_type": "code",
      "metadata": {
        "colab": {
          "base_uri": "https://localhost:8080/"
        },
        "id": "9KibLoaUo7FQ",
        "outputId": "b5e1e711-3c78-49db-a5b1-87d292a9af66"
      },
      "source": [
        "# Training model\n",
        "model.fit(x_train, y_train, epochs=5)"
      ],
      "execution_count": 9,
      "outputs": [
        {
          "output_type": "stream",
          "text": [
            "Epoch 1/5\n",
            "1875/1875 [==============================] - 4s 2ms/step - loss: 0.4766 - accuracy: 0.8616\n",
            "Epoch 2/5\n",
            "1875/1875 [==============================] - 3s 2ms/step - loss: 0.1493 - accuracy: 0.9570\n",
            "Epoch 3/5\n",
            "1875/1875 [==============================] - 3s 2ms/step - loss: 0.1038 - accuracy: 0.9682\n",
            "Epoch 4/5\n",
            "1875/1875 [==============================] - 3s 2ms/step - loss: 0.0875 - accuracy: 0.9727\n",
            "Epoch 5/5\n",
            "1875/1875 [==============================] - 3s 2ms/step - loss: 0.0720 - accuracy: 0.9779\n"
          ],
          "name": "stdout"
        },
        {
          "output_type": "execute_result",
          "data": {
            "text/plain": [
              "<tensorflow.python.keras.callbacks.History at 0x7f0273e8dcd0>"
            ]
          },
          "metadata": {
            "tags": []
          },
          "execution_count": 9
        }
      ]
    },
    {
      "cell_type": "code",
      "metadata": {
        "colab": {
          "base_uri": "https://localhost:8080/"
        },
        "id": "75te9IMpPF1b",
        "outputId": "f61cfd72-c10f-4340-b187-7ba786bb4817"
      },
      "source": [
        "#Evaluate\n",
        "loss, accuracy = model.evaluate(x_test, y_test)\n",
        "print(\"loss = {}, accuracy = {}\".format(loss, accuracy))\n"
      ],
      "execution_count": 10,
      "outputs": [
        {
          "output_type": "stream",
          "text": [
            "313/313 [==============================] - 0s 1ms/step - loss: 0.0726 - accuracy: 0.9776\n",
            "loss = 0.07262171804904938, accuracy = 0.9775999784469604\n"
          ],
          "name": "stdout"
        }
      ]
    },
    {
      "cell_type": "code",
      "metadata": {
        "colab": {
          "base_uri": "https://localhost:8080/"
        },
        "id": "4PsT5IZVPGKp",
        "outputId": "bf856bbc-23f9-48dc-e91c-cf7be7fd82c8"
      },
      "source": [
        "import seaborn as sns\n",
        "from sklearn import metrics\n",
        "predictions = model.predict(x_test)  #gives the probabilities of belonging of this image to the classes\n",
        "print(predictions)\n",
        "\n",
        "#To get the classes:\n",
        "classes = np.argmax(predictions, axis = 1)  #finds the index of the highest value in each row, axis=1 means that the operation is across rows\n",
        "print(classes)"
      ],
      "execution_count": 11,
      "outputs": [
        {
          "output_type": "stream",
          "text": [
            "[[6.2147514e-08 4.1335199e-11 1.7101989e-07 ... 9.9993396e-01\n",
            "  8.4696765e-08 6.0185430e-06]\n",
            " [1.1916125e-07 1.7529022e-05 9.9997699e-01 ... 1.3291603e-12\n",
            "  1.8928727e-06 1.7300505e-12]\n",
            " [1.2991578e-07 9.9937075e-01 1.9736559e-04 ... 3.9874917e-04\n",
            "  1.5114826e-05 2.8868135e-07]\n",
            " ...\n",
            " [1.6392410e-13 2.5204245e-11 5.3251626e-12 ... 7.4699869e-07\n",
            "  2.3748751e-07 2.7608382e-06]\n",
            " [5.6916299e-08 6.3703820e-09 3.8199621e-12 ... 1.1733962e-09\n",
            "  7.3893782e-05 1.5954016e-11]\n",
            " [8.5343821e-09 2.9180510e-13 5.3677248e-08 ... 3.6574480e-12\n",
            "  1.7278102e-09 1.1248699e-12]]\n",
            "[7 2 1 ... 4 5 6]\n"
          ],
          "name": "stdout"
        }
      ]
    },
    {
      "cell_type": "code",
      "metadata": {
        "colab": {
          "base_uri": "https://localhost:8080/",
          "height": 170
        },
        "id": "3eCxUYC0PGOX",
        "outputId": "7c1a6789-9bb4-48a3-e23d-30bb2bbe9b26"
      },
      "source": [
        "#Visualise\n",
        "plt.figure(figsize=(10, 2))\n",
        "for index, (image, label) in enumerate(zip(x_test[0:5], classes[0:5])):\n",
        "    plt.subplot(1, 5, index + 1)\n",
        "    plt.imshow(np.reshape(image, (28, 28)), cmap=plt.cm.gray)\n",
        "    plt.title('Training: {}\\n'.format(label), fontsize = 10)"
      ],
      "execution_count": 12,
      "outputs": [
        {
          "output_type": "display_data",
          "data": {
            "image/png": "[encoded data removed]",
            "text/plain": [
              "<Figure size 720x144 with 5 Axes>"
            ]
          },
          "metadata": {
            "tags": [],
            "needs_background": "light"
          }
        }
      ]
    },
    {
      "cell_type": "code",
      "metadata": {
        "colab": {
          "base_uri": "https://localhost:8080/",
          "height": 543
        },
        "id": "LgGxfpVJPGR2",
        "outputId": "8d16ad8b-7e96-42e7-d987-8c16b98fb1ec"
      },
      "source": [
        "\n",
        "cm = metrics.confusion_matrix(y_test, classes, normalize='true')\n",
        "plt.figure(figsize=(9,9))\n",
        "sns.heatmap(cm, annot=True, fmt=\".3f\", linewidths=.5, square = True, cmap = 'Blues_r')\n",
        "plt.ylabel('Actual label')\n",
        "plt.xlabel('Predicted label')\n",
        "all_sample_title = 'Accuracy = {0}'.format(accuracy)\n",
        "plt.title(all_sample_title, size = 15)"
      ],
      "execution_count": 13,
      "outputs": [
        {
          "output_type": "execute_result",
          "data": {
            "text/plain": [
              "Text(0.5, 1.0, 'Accuracy = 0.9775999784469604')"
            ]
          },
          "metadata": {
            "tags": []
          },
          "execution_count": 13
        },
        {
          "output_type": "display_data",
          "data": {
            "image/png": "[encoded data removed]",
            "text/plain": [
              "<Figure size 648x648 with 2 Axes>"
            ]
          },
          "metadata": {
            "tags": [],
            "needs_background": "light"
          }
        }
      ]
    },
    {
      "cell_type": "code",
      "metadata": {
        "colab": {
          "base_uri": "https://localhost:8080/"
        },
        "id": "xazeV9V9TBFu",
        "outputId": "8e186a10-d283-4d59-c1cc-ba223f62b1a7"
      },
      "source": [
        "#Callbacks : A callback performs actions at various stages of training (e.g. at the start or end of an epoch, before or after a single batch)\n",
        "#Early Stopping\n",
        "from tensorflow.keras.callbacks import EarlyStopping, ModelCheckpoint, TensorBoard\n",
        "import os, datetime\n",
        "\n",
        "early_stopping = EarlyStopping(monitor='val_loss', patience=5)  #which quantity to monitor to decide early stopping\n",
        "#patience = the number of epochs to wait before stopping\n",
        "\n",
        "#Notice that since we set patience=5, we won’t get the best model, but the model two epochs after the best model.\n",
        "#==> An additional callback is required that saves the best model observed during training. This is the ModelCheckpoint callback\n",
        "\n",
        "logdir = os.path.join(\"logs\", datetime.datetime.now().strftime(\"%Y%m%d-%H%M%S\"))\n",
        "\n",
        "callbacks = [early_stopping, ModelCheckpoint(filepath='best_model.h5', monitor='val_loss', save_best_only=True),\n",
        "             TensorBoard(logdir, histogram_freq=1)]\n",
        "\n",
        "history = model.fit(\n",
        "    x_train, \n",
        "    y_train, \n",
        "    epochs=50, \n",
        "    validation_split=0.25, \n",
        "    batch_size=40, \n",
        "    verbose=2,\n",
        "    callbacks=[callbacks]\n",
        ")\n",
        "\n",
        "\n",
        "#The saved model can then be loaded and evaluated any time by calling the load_model() function.\n",
        "from keras.models import load_model\n",
        "saved_model = load_model('best_model.h5')\n",
        "test_acc = saved_model.evaluate(x_test, y_test)"
      ],
      "execution_count": 14,
      "outputs": [
        {
          "output_type": "stream",
          "text": [
            "Epoch 1/50\n",
            "1125/1125 - 4s - loss: 0.0597 - accuracy: 0.9816 - val_loss: 0.0401 - val_accuracy: 0.9873\n",
            "Epoch 2/50\n",
            "1125/1125 - 3s - loss: 0.0534 - accuracy: 0.9833 - val_loss: 0.0475 - val_accuracy: 0.9845\n",
            "Epoch 3/50\n",
            "1125/1125 - 3s - loss: 0.0460 - accuracy: 0.9850 - val_loss: 0.0570 - val_accuracy: 0.9819\n",
            "Epoch 4/50\n",
            "1125/1125 - 3s - loss: 0.0438 - accuracy: 0.9854 - val_loss: 0.0508 - val_accuracy: 0.9835\n",
            "Epoch 5/50\n",
            "1125/1125 - 3s - loss: 0.0393 - accuracy: 0.9870 - val_loss: 0.0559 - val_accuracy: 0.9817\n",
            "Epoch 6/50\n",
            "1125/1125 - 3s - loss: 0.0356 - accuracy: 0.9883 - val_loss: 0.0560 - val_accuracy: 0.9829\n",
            "313/313 [==============================] - 0s 1ms/step - loss: 0.0649 - accuracy: 0.9796\n"
          ],
          "name": "stdout"
        }
      ]
    },
    {
      "cell_type": "code",
      "metadata": {
        "id": "pfZgSomaTBBT"
      },
      "source": [
        "%load_ext tensorboard\n",
        "%tensorboard --logdir logs\n"
      ],
      "execution_count": null,
      "outputs": []
    },
    {
      "cell_type": "code",
      "metadata": {
        "id": "7f7eAqxGTA9d"
      },
      "source": [
        ""
      ],
      "execution_count": 15,
      "outputs": []
    },
    {
      "cell_type": "code",
      "metadata": {
        "id": "XhNs3wC7TAzY"
      },
      "source": [
        ""
      ],
      "execution_count": null,
      "outputs": []
    },
    {
      "cell_type": "code",
      "metadata": {
        "id": "vPRsHTNqTAVJ"
      },
      "source": [
        ""
      ],
      "execution_count": null,
      "outputs": []
    }
  ]
}