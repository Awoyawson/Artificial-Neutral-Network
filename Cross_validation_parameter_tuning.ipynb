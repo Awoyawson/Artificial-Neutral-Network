{
  "nbformat": 4,
  "nbformat_minor": 0,
  "metadata": {
    "colab": {
      "name": "Cross_validation_parameter_tuning.ipynb",
      "provenance": [],
      "collapsed_sections": [],
      "include_colab_link": true
    },
    "kernelspec": {
      "name": "python3",
      "display_name": "Python 3"
    }
  },
  "cells": [
    {
      "cell_type": "markdown",
      "metadata": {
        "id": "view-in-github",
        "colab_type": "text"
      },
      "source": [
        "<a href=\"https://colab.research.google.com/github/Awoyawson/Artificial-Neutral-Network/blob/main/Cross_validation_parameter_tuning.ipynb\" target=\"_parent\"><img src=\"https://colab.research.google.com/assets/colab-badge.svg\" alt=\"Open In Colab\"/></a>"
      ]
    },
    {
      "cell_type": "code",
      "metadata": {
        "id": "a701HLRyDMRl",
        "colab": {
          "base_uri": "https://localhost:8080/",
          "height": 52
        },
        "outputId": "98c215b8-5f04-4982-d1c3-d29573da2b10"
      },
      "source": [
        "'''To implement K-fold cross-validation, we use a scikit_learn wrapper in Keras: KerasClassifier. \n",
        "In other words, we use Keras to build the model and use scikit_learn for cross-validation. '''"
      ],
      "execution_count": 2,
      "outputs": [
        {
          "output_type": "execute_result",
          "data": {
            "application/vnd.google.colaboratory.intrinsic+json": {
              "type": "string"
            },
            "text/plain": [
              "'To implement K-fold cross-validation, we use a scikit_learn wrapper in Keras: KerasClassifier. \\nIn other words, we use Keras to build the model and use scikit_learn for cross-validation. '"
            ]
          },
          "metadata": {
            "tags": []
          },
          "execution_count": 2
        }
      ]
    },
    {
      "cell_type": "code",
      "metadata": {
        "id": "tYvG7Ic1DTyH"
      },
      "source": [
        "import tensorflow as tf\n",
        "from numpy import mean\n",
        "from numpy import std\n",
        "from sklearn.datasets import make_classification\n",
        "from sklearn.model_selection import KFold\n",
        "from sklearn.model_selection import GridSearchCV\n",
        "from sklearn.metrics import accuracy_score\n",
        "from keras.wrappers.scikit_learn import KerasClassifier\n",
        "from sklearn.model_selection import cross_val_score"
      ],
      "execution_count": 1,
      "outputs": []
    },
    {
      "cell_type": "code",
      "metadata": {
        "id": "OXt5ZDOJDdX0"
      },
      "source": [
        "def build_classifier(optimizer):\n",
        "  model = tf.keras.models.Sequential()\n",
        "  model.add(tf.keras.layers.Dense(units = 10, kernel_initializer = 'uniform', activation = 'relu', input_dim = 11))\n",
        "  model.add(tf.keras.layers.Dense(units = 6, kernel_initializer = 'uniform', activation = 'relu'))\n",
        "  model.add(tf.keras.layers.Dense(units = 1, kernel_initializer = 'uniform', activation = 'sigmoid'))\n",
        "  model.compile(optimizer = optimizer, loss = 'binary_crossentropy', metrics = ['accuracy'])\n",
        "  return model\n",
        "\n",
        "my_model = KerasClassifier(build_fn = build_classifier)"
      ],
      "execution_count": 3,
      "outputs": []
    },
    {
      "cell_type": "code",
      "metadata": {
        "id": "AiCpLXi8DmiG"
      },
      "source": [
        "# create dataset\n",
        "import pandas as pd\n",
        "dataset = pd.read_csv('Churn_Modelling.csv')  \n",
        "X = dataset.iloc[:, 3: 13].values\n",
        "y = dataset.iloc[:, 13].values\n",
        "\n",
        "from sklearn.preprocessing import LabelEncoder\n",
        "labelencoder_X_1 = LabelEncoder() #instantiate an object of the class LabelEncoder\n",
        "X[:, 1] = labelencoder_X_1.fit_transform(X[:, 1]) #ordinal encoding for column 1\n",
        "\n",
        "labelencoder_X_2 = LabelEncoder()\n",
        "X[:, 2] = labelencoder_X_2.fit_transform(X[:, 2]) #ordinal encoding for column 2\n",
        "\n",
        "from sklearn.preprocessing import OneHotEncoder\n",
        "from sklearn.compose import ColumnTransformer\n",
        "import numpy as np\n",
        "ct = ColumnTransformer( #'encoder' is the name of the column transformer\n",
        "    [('encoder', OneHotEncoder(), [1])],    # The column numbers to be transformed (here is [1] but can be [0, 1, 3])\n",
        "    remainder='passthrough'                         # Leave the rest of the columns untouched\n",
        ")\n",
        "X = np.array(ct.fit_transform(X), dtype=np.float)\n",
        "\n",
        "X = X[:, 1:]\n",
        "\n",
        "#Standardise the data (x_standardised = (x - x_mean)/std_dev)\n",
        "from sklearn.preprocessing import StandardScaler\n",
        "sc = StandardScaler()\n",
        "'''X_train = sc.fit_transform(X_train)\n",
        "X_test = sc.transform(X_test) #note that we use the scale set from the training set to transform the test set'''\n",
        "X = sc.fit_transform(X)"
      ],
      "execution_count": 5,
      "outputs": []
    },
    {
      "cell_type": "code",
      "metadata": {
        "id": "1p6W_MoxDqin"
      },
      "source": [
        "parameters = {'batch_size': [20, 30], 'nb_epoch': [50, 100], 'optimizer': ['adam', 'sgd']}\n"
      ],
      "execution_count": 6,
      "outputs": []
    },
    {
      "cell_type": "code",
      "metadata": {
        "id": "UMTxm5phEBTq"
      },
      "source": [
        "grid_search = GridSearchCV(estimator=my_model, param_grid=parameters, scoring = 'accuracy', cv = 10)"
      ],
      "execution_count": 7,
      "outputs": []
    },
    {
      "cell_type": "code",
      "metadata": {
        "colab": {
          "base_uri": "https://localhost:8080/"
        },
        "id": "4WEltzmcEFCg",
        "outputId": "9f4cb9e4-5a7d-4ccb-b4b9-da098d2e275d"
      },
      "source": [
        "grid_search = grid_search.fit(X, y)"
      ],
      "execution_count": 8,
      "outputs": [
        {
          "output_type": "stream",
          "text": [
            "450/450 [==============================] - 1s 1ms/step - loss: 0.5960 - accuracy: 0.7861\n"
          ],
          "name": "stdout"
        },
        {
          "output_type": "stream",
          "text": [
            "/usr/local/lib/python3.7/dist-packages/tensorflow/python/keras/engine/sequential.py:450: UserWarning: `model.predict_classes()` is deprecated and will be removed after 2021-01-01. Please use instead:* `np.argmax(model.predict(x), axis=-1)`,   if your model does multi-class classification   (e.g. if it uses a `softmax` last-layer activation).* `(model.predict(x) > 0.5).astype(\"int32\")`,   if your model does binary classification   (e.g. if it uses a `sigmoid` last-layer activation).\n",
            "  warnings.warn('`model.predict_classes()` is deprecated and '\n"
          ],
          "name": "stderr"
        },
        {
          "output_type": "stream",
          "text": [
            "450/450 [==============================] - 1s 1ms/step - loss: 0.6636 - accuracy: 0.7900\n",
            "450/450 [==============================] - 1s 1ms/step - loss: 0.5988 - accuracy: 0.7938\n",
            "450/450 [==============================] - 1s 1ms/step - loss: 0.5948 - accuracy: 0.7989\n",
            "450/450 [==============================] - 1s 1ms/step - loss: 0.5889 - accuracy: 0.7952\n",
            "450/450 [==============================] - 1s 1ms/step - loss: 0.5849 - accuracy: 0.7902\n",
            "450/450 [==============================] - 1s 1ms/step - loss: 0.5927 - accuracy: 0.7972\n",
            "450/450 [==============================] - 1s 1ms/step - loss: 0.6023 - accuracy: 0.7931\n",
            "450/450 [==============================] - 1s 1ms/step - loss: 0.5858 - accuracy: 0.7936\n",
            "450/450 [==============================] - 1s 1ms/step - loss: 0.6068 - accuracy: 0.7817\n",
            "450/450 [==============================] - 1s 926us/step - loss: 0.6303 - accuracy: 0.7878\n",
            "450/450 [==============================] - 1s 1ms/step - loss: 0.6265 - accuracy: 0.7948\n",
            "450/450 [==============================] - 1s 848us/step - loss: 0.6268 - accuracy: 0.8000\n",
            "450/450 [==============================] - 1s 919us/step - loss: 0.6282 - accuracy: 0.7887\n",
            "450/450 [==============================] - 1s 871us/step - loss: 0.6276 - accuracy: 0.7906\n",
            "450/450 [==============================] - 1s 885us/step - loss: 0.6280 - accuracy: 0.7861\n",
            "450/450 [==============================] - 1s 923us/step - loss: 0.6291 - accuracy: 0.7916\n",
            "450/450 [==============================] - 1s 923us/step - loss: 0.6292 - accuracy: 0.7878\n",
            "450/450 [==============================] - 1s 883us/step - loss: 0.6271 - accuracy: 0.7994\n",
            "450/450 [==============================] - 1s 940us/step - loss: 0.6302 - accuracy: 0.7910\n",
            "450/450 [==============================] - 1s 1ms/step - loss: 0.5869 - accuracy: 0.7992\n",
            "450/450 [==============================] - 1s 1ms/step - loss: 0.5876 - accuracy: 0.7946\n",
            "450/450 [==============================] - 1s 1ms/step - loss: 0.6029 - accuracy: 0.7865\n",
            "450/450 [==============================] - 1s 1ms/step - loss: 0.5812 - accuracy: 0.8015\n",
            "450/450 [==============================] - 1s 1ms/step - loss: 0.5839 - accuracy: 0.7834\n",
            "450/450 [==============================] - 1s 1ms/step - loss: 0.5844 - accuracy: 0.7890\n",
            "450/450 [==============================] - 1s 998us/step - loss: 0.5974 - accuracy: 0.7870\n",
            "450/450 [==============================] - 1s 1ms/step - loss: 0.5882 - accuracy: 0.7878\n",
            "450/450 [==============================] - 1s 1ms/step - loss: 0.5823 - accuracy: 0.7944\n",
            "450/450 [==============================] - 1s 989us/step - loss: 0.5929 - accuracy: 0.7943\n",
            "450/450 [==============================] - 1s 951us/step - loss: 0.6276 - accuracy: 0.7965\n",
            "450/450 [==============================] - 1s 895us/step - loss: 0.6299 - accuracy: 0.7869\n",
            "450/450 [==============================] - 1s 856us/step - loss: 0.6266 - accuracy: 0.7958\n",
            "450/450 [==============================] - 1s 889us/step - loss: 0.6287 - accuracy: 0.7935\n",
            "450/450 [==============================] - 1s 878us/step - loss: 0.6296 - accuracy: 0.7841\n",
            "450/450 [==============================] - 1s 896us/step - loss: 0.6283 - accuracy: 0.7867\n",
            "450/450 [==============================] - 1s 940us/step - loss: 0.6287 - accuracy: 0.7909\n",
            "450/450 [==============================] - 1s 886us/step - loss: 0.6270 - accuracy: 0.7951\n",
            "450/450 [==============================] - 1s 884us/step - loss: 0.6279 - accuracy: 0.7885\n",
            "450/450 [==============================] - 1s 868us/step - loss: 0.6296 - accuracy: 0.7878\n",
            "300/300 [==============================] - 1s 1ms/step - loss: 0.6095 - accuracy: 0.7892\n",
            "300/300 [==============================] - 1s 1ms/step - loss: 0.6117 - accuracy: 0.7982\n",
            "300/300 [==============================] - 1s 1ms/step - loss: 0.6191 - accuracy: 0.7953\n",
            "300/300 [==============================] - 1s 981us/step - loss: 0.6281 - accuracy: 0.7974\n",
            "300/300 [==============================] - 1s 1ms/step - loss: 0.6163 - accuracy: 0.7914\n",
            "300/300 [==============================] - 1s 1ms/step - loss: 0.6176 - accuracy: 0.7871\n",
            "300/300 [==============================] - 1s 1ms/step - loss: 0.6257 - accuracy: 0.7812\n",
            "300/300 [==============================] - 1s 1ms/step - loss: 0.6129 - accuracy: 0.7993\n",
            "300/300 [==============================] - 1s 1ms/step - loss: 0.6168 - accuracy: 0.7955\n",
            "300/300 [==============================] - 1s 1ms/step - loss: 0.6342 - accuracy: 0.7923\n",
            "300/300 [==============================] - 1s 874us/step - loss: 0.6445 - accuracy: 0.7982\n",
            "300/300 [==============================] - 1s 926us/step - loss: 0.6455 - accuracy: 0.7772\n",
            "300/300 [==============================] - 1s 903us/step - loss: 0.6443 - accuracy: 0.7836\n",
            "300/300 [==============================] - 1s 899us/step - loss: 0.6434 - accuracy: 0.7884\n",
            "300/300 [==============================] - 1s 891us/step - loss: 0.6443 - accuracy: 0.7896\n",
            "300/300 [==============================] - 1s 886us/step - loss: 0.6433 - accuracy: 0.7898\n",
            "300/300 [==============================] - 1s 955us/step - loss: 0.6444 - accuracy: 0.7938\n",
            "300/300 [==============================] - 1s 946us/step - loss: 0.6435 - accuracy: 0.7954\n",
            "300/300 [==============================] - 1s 916us/step - loss: 0.6437 - accuracy: 0.7963\n",
            "300/300 [==============================] - 1s 888us/step - loss: 0.6447 - accuracy: 0.7834\n",
            "300/300 [==============================] - 1s 1ms/step - loss: 0.6145 - accuracy: 0.8009\n",
            "300/300 [==============================] - 1s 1ms/step - loss: 0.6176 - accuracy: 0.7987\n",
            "300/300 [==============================] - 1s 1ms/step - loss: 0.6296 - accuracy: 0.7928\n",
            "300/300 [==============================] - 1s 1ms/step - loss: 0.6491 - accuracy: 0.7914\n",
            "300/300 [==============================] - 1s 1ms/step - loss: 0.6201 - accuracy: 0.7808\n",
            "300/300 [==============================] - 1s 1ms/step - loss: 0.6483 - accuracy: 0.7817\n",
            "300/300 [==============================] - 1s 1ms/step - loss: 0.6210 - accuracy: 0.7972\n",
            "300/300 [==============================] - 1s 1ms/step - loss: 0.6219 - accuracy: 0.7934\n",
            "300/300 [==============================] - 1s 1ms/step - loss: 0.6316 - accuracy: 0.7876\n",
            "300/300 [==============================] - 1s 1ms/step - loss: 0.6354 - accuracy: 0.7738\n",
            "300/300 [==============================] - 1s 901us/step - loss: 0.6440 - accuracy: 0.7859\n",
            "300/300 [==============================] - 1s 887us/step - loss: 0.6441 - accuracy: 0.7895\n",
            "300/300 [==============================] - 1s 888us/step - loss: 0.6439 - accuracy: 0.7840\n",
            "300/300 [==============================] - 1s 917us/step - loss: 0.6452 - accuracy: 0.7774\n",
            "300/300 [==============================] - 1s 922us/step - loss: 0.6433 - accuracy: 0.7881\n",
            "300/300 [==============================] - 1s 952us/step - loss: 0.6442 - accuracy: 0.7902\n",
            "300/300 [==============================] - 1s 888us/step - loss: 0.6451 - accuracy: 0.7832\n",
            "300/300 [==============================] - 1s 931us/step - loss: 0.6457 - accuracy: 0.7894\n",
            "300/300 [==============================] - 1s 900us/step - loss: 0.6439 - accuracy: 0.7928\n",
            "300/300 [==============================] - 1s 905us/step - loss: 0.6446 - accuracy: 0.7818\n",
            "500/500 [==============================] - 1s 1ms/step - loss: 0.5743 - accuracy: 0.7931\n"
          ],
          "name": "stdout"
        }
      ]
    },
    {
      "cell_type": "code",
      "metadata": {
        "colab": {
          "base_uri": "https://localhost:8080/"
        },
        "id": "ufzAWHFVEMcO",
        "outputId": "9bc371c7-3743-4983-efba-1cfc36f6d3e6"
      },
      "source": [
        "best_parameters = grid_search.best_params_\n",
        "best_accuracy = grid_search.best_score_\n",
        "\n",
        "print(best_parameters)\n",
        "print(best_accuracy)"
      ],
      "execution_count": 9,
      "outputs": [
        {
          "output_type": "stream",
          "text": [
            "{'batch_size': 20, 'nb_epoch': 50, 'optimizer': 'adam'}\n",
            "0.7962999999999999\n"
          ],
          "name": "stdout"
        }
      ]
    },
    {
      "cell_type": "code",
      "metadata": {
        "id": "_7bht4ffFfx2"
      },
      "source": [
        ""
      ],
      "execution_count": null,
      "outputs": []
    }
  ]
}